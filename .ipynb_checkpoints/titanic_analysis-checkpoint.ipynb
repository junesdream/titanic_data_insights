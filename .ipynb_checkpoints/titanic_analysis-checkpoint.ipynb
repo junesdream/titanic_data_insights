{
 "cells": [
  {
   "cell_type": "code",
   "id": "initial_id",
   "metadata": {
    "collapsed": true,
    "jupyter": {
     "is_executing": true
    }
   },
   "source": [
    "# Importing necessary libraries\n",
    "import pandas as pd\n",
    "import seaborn as sns\n",
    "import matplotlib.pyplot as plt\n",
    "\n",
    "# Load the dataset\n",
    "# You can download the Titanic dataset from https://www.kaggle.com/c/titanic/data\n",
    "df = pd.read_csv('titanic.csv')\n",
    "\n",
    "# Show the first few rows of the dataset\n",
    "df.head()\n",
    "\n",
    "# Basic Information about the dataset\n",
    "df.info()\n",
    "\n",
    "# Checking for missing values\n",
    "df.isnull().sum()\n",
    "\n",
    "# Filling missing values in the 'Age' column with the median value\n",
    "df['Age'].fillna(df['Age'].median(), inplace=True)\n",
    "\n",
    "# Drop the rows where 'Embarked' is missing\n",
    "df.dropna(subset=['Embarked'], inplace=True)\n",
    "\n",
    "# Filling missing values in 'Cabin' with 'Unknown'\n",
    "df['Cabin'].fillna('Unknown', inplace=True)\n",
    "\n",
    "# Let's explore the data with visualizations\n",
    "\n",
    "# 1. How many passengers survived?\n",
    "sns.countplot(x='Survived', data=df)\n",
    "plt.title('Survival Count')\n",
    "plt.show()\n",
    "\n",
    "# 2. Distribution of passengers by class\n",
    "sns.countplot(x='Pclass', data=df)\n",
    "plt.title('Passenger Class Distribution')\n",
    "plt.show()\n",
    "\n",
    "# 3. Survival rate by passenger class\n",
    "sns.barplot(x='Pclass', y='Survived', data=df)\n",
    "plt.title('Survival Rate by Passenger Class')\n",
    "plt.show()\n",
    "\n",
    "# 4. Age distribution of passengers\n",
    "sns.histplot(df['Age'], kde=True)\n",
    "plt.title('Age Distribution of Passengers')\n",
    "plt.show()\n",
    "\n",
    "# 5. Survival based on gender\n",
    "sns.barplot(x='Sex', y='Survived', data=df)\n",
    "plt.title('Survival Rate by Gender')\n",
    "plt.show()\n",
    "\n",
    "# 6. Fare distribution\n",
    "sns.histplot(df['Fare'], kde=True)\n",
    "plt.title('Fare Distribution')\n",
    "plt.show()\n",
    "\n",
    "# 7. Correlation heatmap\n",
    "plt.figure(figsize=(10, 6))\n",
    "sns.heatmap(df.corr(), annot=True, cmap='coolwarm')\n",
    "plt.title('Correlation Heatmap')\n",
    "plt.show()\n",
    "\n",
    "# Summary Statistics\n",
    "df.describe()\n"
   ],
   "outputs": [],
   "execution_count": null
  },
  {
   "metadata": {},
   "cell_type": "code",
   "outputs": [],
   "execution_count": null,
   "source": "",
   "id": "cca222eee5475b3d"
  }
 ],
 "metadata": {
  "kernelspec": {
   "display_name": "Python 3",
   "language": "python",
   "name": "python3"
  },
  "language_info": {
   "codemirror_mode": {
    "name": "ipython",
    "version": 2
   },
   "file_extension": ".py",
   "mimetype": "text/x-python",
   "name": "python",
   "nbconvert_exporter": "python",
   "pygments_lexer": "ipython2",
   "version": "2.7.6"
  }
 },
 "nbformat": 4,
 "nbformat_minor": 5
}
